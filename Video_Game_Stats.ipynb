{
 "cells": [
  {
   "cell_type": "code",
   "execution_count": 1,
   "metadata": {},
   "outputs": [],
   "source": [
    "import pandas as pd"
   ]
  },
  {
   "cell_type": "code",
   "execution_count": 2,
   "metadata": {},
   "outputs": [],
   "source": [
    "### Analyze Video Game Sales - JB Tellez 12/17/2018"
   ]
  },
  {
   "cell_type": "code",
   "execution_count": 3,
   "metadata": {},
   "outputs": [],
   "source": [
    "#### which is most common video game publisher?"
   ]
  },
  {
   "cell_type": "code",
   "execution_count": 4,
   "metadata": {},
   "outputs": [],
   "source": [
    "df = pd.read_csv('./vgsales.csv')"
   ]
  },
  {
   "cell_type": "code",
   "execution_count": 188,
   "metadata": {},
   "outputs": [
    {
     "name": "stdout",
     "output_type": "stream",
     "text": [
      "Most common publisher: Electronic Arts\n"
     ]
    }
   ],
   "source": [
    "most_common_publisher = df.Publisher.mode().get(0)\n",
    "print('Most common publisher: ' + most_common_publisher)"
   ]
  },
  {
   "cell_type": "code",
   "execution_count": null,
   "metadata": {},
   "outputs": [],
   "source": []
  },
  {
   "cell_type": "code",
   "execution_count": null,
   "metadata": {},
   "outputs": [],
   "source": [
    "#### which is most common video game platform?"
   ]
  },
  {
   "cell_type": "code",
   "execution_count": 189,
   "metadata": {},
   "outputs": [
    {
     "name": "stdout",
     "output_type": "stream",
     "text": [
      "Most common platform:  DS\n"
     ]
    }
   ],
   "source": [
    "most_common_platform = df.Platform.mode().get(0)\n",
    "print('Most common platform: ', most_common_platform)"
   ]
  },
  {
   "cell_type": "code",
   "execution_count": null,
   "metadata": {},
   "outputs": [],
   "source": []
  },
  {
   "cell_type": "code",
   "execution_count": null,
   "metadata": {},
   "outputs": [],
   "source": [
    "#### which is most common video game genre?"
   ]
  },
  {
   "cell_type": "code",
   "execution_count": 190,
   "metadata": {},
   "outputs": [
    {
     "name": "stdout",
     "output_type": "stream",
     "text": [
      "Most common genre:  Action\n"
     ]
    }
   ],
   "source": [
    "most_common_genre = df.Genre.mode().get(0)\n",
    "print('Most common genre: ', most_common_genre)"
   ]
  },
  {
   "cell_type": "code",
   "execution_count": null,
   "metadata": {},
   "outputs": [],
   "source": [
    "#### What are the top 20 highest grossing games?"
   ]
  },
  {
   "cell_type": "code",
   "execution_count": 23,
   "metadata": {},
   "outputs": [
    {
     "data": {
      "text/html": [
       "<div>\n",
       "<style scoped>\n",
       "    .dataframe tbody tr th:only-of-type {\n",
       "        vertical-align: middle;\n",
       "    }\n",
       "\n",
       "    .dataframe tbody tr th {\n",
       "        vertical-align: top;\n",
       "    }\n",
       "\n",
       "    .dataframe thead th {\n",
       "        text-align: right;\n",
       "    }\n",
       "</style>\n",
       "<table border=\"1\" class=\"dataframe\">\n",
       "  <thead>\n",
       "    <tr style=\"text-align: right;\">\n",
       "      <th></th>\n",
       "      <th>Global_Sales</th>\n",
       "      <th>Name</th>\n",
       "    </tr>\n",
       "  </thead>\n",
       "  <tbody>\n",
       "    <tr>\n",
       "      <th>0</th>\n",
       "      <td>82.74</td>\n",
       "      <td>Wii Sports</td>\n",
       "    </tr>\n",
       "    <tr>\n",
       "      <th>1</th>\n",
       "      <td>40.24</td>\n",
       "      <td>Super Mario Bros.</td>\n",
       "    </tr>\n",
       "    <tr>\n",
       "      <th>2</th>\n",
       "      <td>35.82</td>\n",
       "      <td>Mario Kart Wii</td>\n",
       "    </tr>\n",
       "    <tr>\n",
       "      <th>3</th>\n",
       "      <td>33.00</td>\n",
       "      <td>Wii Sports Resort</td>\n",
       "    </tr>\n",
       "    <tr>\n",
       "      <th>4</th>\n",
       "      <td>31.37</td>\n",
       "      <td>Pokemon Red/Pokemon Blue</td>\n",
       "    </tr>\n",
       "    <tr>\n",
       "      <th>5</th>\n",
       "      <td>30.26</td>\n",
       "      <td>Tetris</td>\n",
       "    </tr>\n",
       "    <tr>\n",
       "      <th>6</th>\n",
       "      <td>30.01</td>\n",
       "      <td>New Super Mario Bros.</td>\n",
       "    </tr>\n",
       "    <tr>\n",
       "      <th>7</th>\n",
       "      <td>29.02</td>\n",
       "      <td>Wii Play</td>\n",
       "    </tr>\n",
       "    <tr>\n",
       "      <th>8</th>\n",
       "      <td>28.62</td>\n",
       "      <td>New Super Mario Bros. Wii</td>\n",
       "    </tr>\n",
       "    <tr>\n",
       "      <th>9</th>\n",
       "      <td>28.31</td>\n",
       "      <td>Duck Hunt</td>\n",
       "    </tr>\n",
       "    <tr>\n",
       "      <th>10</th>\n",
       "      <td>24.76</td>\n",
       "      <td>Nintendogs</td>\n",
       "    </tr>\n",
       "    <tr>\n",
       "      <th>11</th>\n",
       "      <td>23.42</td>\n",
       "      <td>Mario Kart DS</td>\n",
       "    </tr>\n",
       "    <tr>\n",
       "      <th>12</th>\n",
       "      <td>23.10</td>\n",
       "      <td>Pokemon Gold/Pokemon Silver</td>\n",
       "    </tr>\n",
       "    <tr>\n",
       "      <th>13</th>\n",
       "      <td>22.72</td>\n",
       "      <td>Wii Fit</td>\n",
       "    </tr>\n",
       "    <tr>\n",
       "      <th>14</th>\n",
       "      <td>22.00</td>\n",
       "      <td>Wii Fit Plus</td>\n",
       "    </tr>\n",
       "    <tr>\n",
       "      <th>15</th>\n",
       "      <td>21.82</td>\n",
       "      <td>Kinect Adventures!</td>\n",
       "    </tr>\n",
       "    <tr>\n",
       "      <th>16</th>\n",
       "      <td>21.40</td>\n",
       "      <td>Grand Theft Auto V</td>\n",
       "    </tr>\n",
       "    <tr>\n",
       "      <th>17</th>\n",
       "      <td>20.81</td>\n",
       "      <td>Grand Theft Auto: San Andreas</td>\n",
       "    </tr>\n",
       "    <tr>\n",
       "      <th>18</th>\n",
       "      <td>20.61</td>\n",
       "      <td>Super Mario World</td>\n",
       "    </tr>\n",
       "    <tr>\n",
       "      <th>19</th>\n",
       "      <td>20.22</td>\n",
       "      <td>Brain Age: Train Your Brain in Minutes a Day</td>\n",
       "    </tr>\n",
       "  </tbody>\n",
       "</table>\n",
       "</div>"
      ],
      "text/plain": [
       "    Global_Sales                                          Name\n",
       "0          82.74                                    Wii Sports\n",
       "1          40.24                             Super Mario Bros.\n",
       "2          35.82                                Mario Kart Wii\n",
       "3          33.00                             Wii Sports Resort\n",
       "4          31.37                      Pokemon Red/Pokemon Blue\n",
       "5          30.26                                        Tetris\n",
       "6          30.01                         New Super Mario Bros.\n",
       "7          29.02                                      Wii Play\n",
       "8          28.62                     New Super Mario Bros. Wii\n",
       "9          28.31                                     Duck Hunt\n",
       "10         24.76                                    Nintendogs\n",
       "11         23.42                                 Mario Kart DS\n",
       "12         23.10                   Pokemon Gold/Pokemon Silver\n",
       "13         22.72                                       Wii Fit\n",
       "14         22.00                                  Wii Fit Plus\n",
       "15         21.82                            Kinect Adventures!\n",
       "16         21.40                            Grand Theft Auto V\n",
       "17         20.81                 Grand Theft Auto: San Andreas\n",
       "18         20.61                             Super Mario World\n",
       "19         20.22  Brain Age: Train Your Brain in Minutes a Day"
      ]
     },
     "execution_count": 23,
     "metadata": {},
     "output_type": "execute_result"
    }
   ],
   "source": [
    "top_twenty_grossing_df = df[['Global_Sales','Name']].sort_values('Global_Sales', ascending=False).head(20)\n",
    "top_twenty_grossing_df"
   ]
  },
  {
   "cell_type": "code",
   "execution_count": null,
   "metadata": {},
   "outputs": [],
   "source": [
    "#### For North American video game sales, what’s the median?"
   ]
  },
  {
   "cell_type": "code",
   "execution_count": 86,
   "metadata": {},
   "outputs": [
    {
     "name": "stdout",
     "output_type": "stream",
     "text": [
      "Median North American game sales in millions 0.14\n"
     ]
    }
   ],
   "source": [
    "games_with_na_sales = df[df.NA_Sales > 0]\n",
    "median = games_with_na_sales.median().get('NA_Sales')\n",
    "print(f'Median North American game sales in millions {median}')\n",
    "\n"
   ]
  },
  {
   "cell_type": "code",
   "execution_count": null,
   "metadata": {},
   "outputs": [],
   "source": [
    "#### Show about 10 games surrounding median"
   ]
  },
  {
   "cell_type": "code",
   "execution_count": 92,
   "metadata": {},
   "outputs": [
    {
     "data": {
      "text/plain": [
       "759                            Volleyball\n",
       "2390                         Beijing 2008\n",
       "2435               Street Fighter Alpha 2\n",
       "2583           Resident Evil: Revelations\n",
       "2712        Assassin's Creed: Revelations\n",
       "2794           FIFA: Road to World Cup 98\n",
       "2886         LEGO Harry Potter: Years 1-4\n",
       "3069                       Rayman Legends\n",
       "3265    Metal Gear Solid V: Ground Zeroes\n",
       "3434                       FIFA Soccer 10\n",
       "Name: Name, dtype: object"
      ]
     },
     "execution_count": 92,
     "metadata": {},
     "output_type": "execute_result"
    }
   ],
   "source": [
    "games_with_na_sales_close = df[df.NA_Sales == median]\n",
    "games_with_na_sales_close['Name'].head(10)"
   ]
  },
  {
   "cell_type": "code",
   "execution_count": null,
   "metadata": {},
   "outputs": [],
   "source": [
    "#### For the top-selling game of all time, \n",
    "#### how many standard deviations above/below the mean are its sales for North America?\n",
    "#### Note: not including games with zero sales in NA"
   ]
  },
  {
   "cell_type": "code",
   "execution_count": 177,
   "metadata": {},
   "outputs": [
    {
     "name": "stdout",
     "output_type": "stream",
     "text": [
      "top selling all time na sales 41.49\n",
      "mean na sales 0.3630837259277626\n",
      "std dev na sales 0.9376928421792661\n",
      "top selling deviation count 44.24689848711465\n"
     ]
    }
   ],
   "source": [
    "top_selling_all_time = df.head(1) # already ranked by global sales\n",
    "top_selling_all_time_na_sales = float(top_selling_all_time.NA_Sales)\n",
    "mean_na_sales = games_with_na_sales.mean().NA_Sales\n",
    "std_dev_na_sales = games_with_na_sales.std().NA_Sales\n",
    "\n",
    "print('top selling all time na sales')\n",
    "print(top_selling_all_time_na_sales)\n",
    "print('mean na sales', mean_na_sales)\n",
    "print('std dev na sales', std_dev_na_sales)\n",
    "print('top selling deviation count', top_selling_all_time_na_sales / std_dev_na_sales)"
   ]
  },
  {
   "cell_type": "code",
   "execution_count": 181,
   "metadata": {},
   "outputs": [
    {
     "data": {
      "text/html": [
       "<div>\n",
       "<style scoped>\n",
       "    .dataframe tbody tr th:only-of-type {\n",
       "        vertical-align: middle;\n",
       "    }\n",
       "\n",
       "    .dataframe tbody tr th {\n",
       "        vertical-align: top;\n",
       "    }\n",
       "\n",
       "    .dataframe thead th {\n",
       "        text-align: right;\n",
       "    }\n",
       "</style>\n",
       "<table border=\"1\" class=\"dataframe\">\n",
       "  <thead>\n",
       "    <tr style=\"text-align: right;\">\n",
       "      <th></th>\n",
       "      <th>Rank</th>\n",
       "      <th>Year</th>\n",
       "      <th>NA_Sales</th>\n",
       "      <th>EU_Sales</th>\n",
       "      <th>JP_Sales</th>\n",
       "      <th>Other_Sales</th>\n",
       "      <th>Global_Sales</th>\n",
       "    </tr>\n",
       "  </thead>\n",
       "  <tbody>\n",
       "    <tr>\n",
       "      <th>count</th>\n",
       "      <td>12099.000000</td>\n",
       "      <td>11888.000000</td>\n",
       "      <td>12099.000000</td>\n",
       "      <td>12099.000000</td>\n",
       "      <td>12099.000000</td>\n",
       "      <td>12099.000000</td>\n",
       "      <td>12099.000000</td>\n",
       "    </tr>\n",
       "    <tr>\n",
       "      <th>mean</th>\n",
       "      <td>7023.297380</td>\n",
       "      <td>2006.049798</td>\n",
       "      <td>0.363084</td>\n",
       "      <td>0.194107</td>\n",
       "      <td>0.064889</td>\n",
       "      <td>0.064045</td>\n",
       "      <td>0.686411</td>\n",
       "    </tr>\n",
       "    <tr>\n",
       "      <th>std</th>\n",
       "      <td>4436.265806</td>\n",
       "      <td>5.584974</td>\n",
       "      <td>0.937693</td>\n",
       "      <td>0.582554</td>\n",
       "      <td>0.330710</td>\n",
       "      <td>0.218092</td>\n",
       "      <td>1.791968</td>\n",
       "    </tr>\n",
       "    <tr>\n",
       "      <th>min</th>\n",
       "      <td>1.000000</td>\n",
       "      <td>1980.000000</td>\n",
       "      <td>0.010000</td>\n",
       "      <td>0.000000</td>\n",
       "      <td>0.000000</td>\n",
       "      <td>0.000000</td>\n",
       "      <td>0.010000</td>\n",
       "    </tr>\n",
       "    <tr>\n",
       "      <th>25%</th>\n",
       "      <td>3174.500000</td>\n",
       "      <td>2003.000000</td>\n",
       "      <td>0.060000</td>\n",
       "      <td>0.010000</td>\n",
       "      <td>0.000000</td>\n",
       "      <td>0.010000</td>\n",
       "      <td>0.100000</td>\n",
       "    </tr>\n",
       "    <tr>\n",
       "      <th>50%</th>\n",
       "      <td>6710.000000</td>\n",
       "      <td>2007.000000</td>\n",
       "      <td>0.140000</td>\n",
       "      <td>0.050000</td>\n",
       "      <td>0.000000</td>\n",
       "      <td>0.020000</td>\n",
       "      <td>0.250000</td>\n",
       "    </tr>\n",
       "    <tr>\n",
       "      <th>75%</th>\n",
       "      <td>10560.000000</td>\n",
       "      <td>2010.000000</td>\n",
       "      <td>0.350000</td>\n",
       "      <td>0.170000</td>\n",
       "      <td>0.000000</td>\n",
       "      <td>0.050000</td>\n",
       "      <td>0.640000</td>\n",
       "    </tr>\n",
       "    <tr>\n",
       "      <th>max</th>\n",
       "      <td>16600.000000</td>\n",
       "      <td>2020.000000</td>\n",
       "      <td>41.490000</td>\n",
       "      <td>29.020000</td>\n",
       "      <td>10.220000</td>\n",
       "      <td>10.570000</td>\n",
       "      <td>82.740000</td>\n",
       "    </tr>\n",
       "  </tbody>\n",
       "</table>\n",
       "</div>"
      ],
      "text/plain": [
       "               Rank          Year      NA_Sales      EU_Sales      JP_Sales  \\\n",
       "count  12099.000000  11888.000000  12099.000000  12099.000000  12099.000000   \n",
       "mean    7023.297380   2006.049798      0.363084      0.194107      0.064889   \n",
       "std     4436.265806      5.584974      0.937693      0.582554      0.330710   \n",
       "min        1.000000   1980.000000      0.010000      0.000000      0.000000   \n",
       "25%     3174.500000   2003.000000      0.060000      0.010000      0.000000   \n",
       "50%     6710.000000   2007.000000      0.140000      0.050000      0.000000   \n",
       "75%    10560.000000   2010.000000      0.350000      0.170000      0.000000   \n",
       "max    16600.000000   2020.000000     41.490000     29.020000     10.220000   \n",
       "\n",
       "        Other_Sales  Global_Sales  \n",
       "count  12099.000000  12099.000000  \n",
       "mean       0.064045      0.686411  \n",
       "std        0.218092      1.791968  \n",
       "min        0.000000      0.010000  \n",
       "25%        0.010000      0.100000  \n",
       "50%        0.020000      0.250000  \n",
       "75%        0.050000      0.640000  \n",
       "max       10.570000     82.740000  "
      ]
     },
     "execution_count": 181,
     "metadata": {},
     "output_type": "execute_result"
    }
   ],
   "source": [
    "df[df.NA_Sales > 0].describe()"
   ]
  },
  {
   "cell_type": "code",
   "execution_count": null,
   "metadata": {},
   "outputs": [],
   "source": [
    "#### The Nintendo Wii seems to have outdone itself with games. \n",
    "#### How does its average number of sales compare with all of the other platforms?"
   ]
  },
  {
   "cell_type": "code",
   "execution_count": 193,
   "metadata": {},
   "outputs": [
    {
     "name": "stdout",
     "output_type": "stream",
     "text": [
      "Wii average sales: 0.6994037735849057\n",
      "Others average sales: 0.5233896418516336\n",
      "% better: 133\n"
     ]
    }
   ],
   "source": [
    "wii_avg_sales = df[df.Platform == 'Wii'].Global_Sales.mean()\n",
    "not_wii_avg_sales = df[df.Platform != 'Wii'].Global_Sales.mean()\n",
    "print('Wii average sales:', wii_avg_sales)\n",
    "print('Others average sales:', not_wii_avg_sales)\n",
    "print('% better:', int(wii_avg_sales / not_wii_avg_sales * 100))"
   ]
  },
  {
   "cell_type": "code",
   "execution_count": null,
   "metadata": {},
   "outputs": [],
   "source": [
    "### Come up with 3 more questions that can be answered with this data set."
   ]
  },
  {
   "cell_type": "code",
   "execution_count": null,
   "metadata": {},
   "outputs": [],
   "source": []
  },
  {
   "cell_type": "code",
   "execution_count": null,
   "metadata": {},
   "outputs": [],
   "source": []
  },
  {
   "cell_type": "code",
   "execution_count": null,
   "metadata": {},
   "outputs": [],
   "source": []
  },
  {
   "cell_type": "code",
   "execution_count": null,
   "metadata": {},
   "outputs": [],
   "source": []
  }
 ],
 "metadata": {
  "kernelspec": {
   "display_name": "Python 3",
   "language": "python",
   "name": "python3"
  },
  "language_info": {
   "codemirror_mode": {
    "name": "ipython",
    "version": 3
   },
   "file_extension": ".py",
   "mimetype": "text/x-python",
   "name": "python",
   "nbconvert_exporter": "python",
   "pygments_lexer": "ipython3",
   "version": "3.7.1"
  }
 },
 "nbformat": 4,
 "nbformat_minor": 2
}
