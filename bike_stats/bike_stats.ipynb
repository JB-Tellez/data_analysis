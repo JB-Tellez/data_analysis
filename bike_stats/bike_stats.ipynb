{
 "cells": [
  {
   "cell_type": "code",
   "execution_count": 1,
   "metadata": {},
   "outputs": [],
   "source": [
    "import pandas as pd\n",
    "import numpy as np\n",
    "import datetime as dt"
   ]
  },
  {
   "cell_type": "code",
   "execution_count": 2,
   "metadata": {},
   "outputs": [
    {
     "name": "stderr",
     "output_type": "stream",
     "text": [
      "b'Skipping line 50794: expected 12 fields, saw 20\\n'\n"
     ]
    }
   ],
   "source": [
    "station_df = pd.read_csv('./cycle-share-dataset/station.csv')\n",
    "trip_df = pd.read_csv('./cycle-share-dataset/trip.csv', error_bad_lines=False)\n",
    "weather_df = pd.read_csv('./cycle-share-dataset/weather.csv')\n",
    "# station_df.sample(5)\n",
    "# trip_df.sample(5)\n",
    "# weather_df.sample(5)\n"
   ]
  },
  {
   "cell_type": "code",
   "execution_count": 3,
   "metadata": {},
   "outputs": [],
   "source": [
    "### What is the average trip duration for a borrowed bicycle?"
   ]
  },
  {
   "cell_type": "code",
   "execution_count": 4,
   "metadata": {
    "scrolled": true
   },
   "outputs": [
    {
     "name": "stdout",
     "output_type": "stream",
     "text": [
      "average trip duration (in seconds I suppose): 1178.2956753399776\n"
     ]
    }
   ],
   "source": [
    "avg_trip_duration = trip_df.tripduration.mean()\n",
    "print('average trip duration (in seconds I suppose):', avg_trip_duration, )"
   ]
  },
  {
   "cell_type": "code",
   "execution_count": 5,
   "metadata": {},
   "outputs": [],
   "source": [
    "### What’s the most common age of a bicycle-sharer?"
   ]
  },
  {
   "cell_type": "code",
   "execution_count": 6,
   "metadata": {},
   "outputs": [
    {
     "name": "stdout",
     "output_type": "stream",
     "text": [
      "Most common age: 31\n"
     ]
    }
   ],
   "source": [
    "most_common_birth_year = trip_df.birthyear.mode().get(0)\n",
    "current_year = dt.date.today().year\n",
    "most_common_age = int(current_year - most_common_birth_year)\n",
    "print('Most common age:', most_common_age)"
   ]
  },
  {
   "cell_type": "code",
   "execution_count": 7,
   "metadata": {},
   "outputs": [],
   "source": [
    "### find the average precipitation per month"
   ]
  },
  {
   "cell_type": "code",
   "execution_count": 16,
   "metadata": {
    "scrolled": true
   },
   "outputs": [
    {
     "data": {
      "text/plain": [
       "MONTH\n",
       "1     45.225806\n",
       "2     49.267857\n",
       "3     51.048387\n",
       "4     55.116667\n",
       "5     60.822581\n",
       "6     66.616667\n",
       "7     70.177419\n",
       "8     69.596774\n",
       "9     62.566667\n",
       "10    58.840000\n",
       "11    46.800000\n",
       "12    45.709677\n",
       "Name: Mean_Temperature_F, dtype: float64"
      ]
     },
     "execution_count": 16,
     "metadata": {},
     "output_type": "execute_result"
    }
   ],
   "source": [
    "# add month column\n",
    "\n",
    "weather_df.DATE = pd.to_datetime(weather_df.Date)\n",
    "weather_df['MONTH'] = weather_df.DATE.dt.month\n",
    "\n",
    "months = weather_df.groupby(weather_df.MONTH)\n",
    "months.Mean_Temperature_F.mean()"
   ]
  },
  {
   "cell_type": "code",
   "execution_count": 44,
   "metadata": {},
   "outputs": [
    {
     "name": "stdout",
     "output_type": "stream",
     "text": [
      "MONTH\n",
      "1     0.020\n",
      "2     0.040\n",
      "3     0.025\n",
      "4     0.000\n",
      "5     0.000\n",
      "6     0.000\n",
      "7     0.000\n",
      "8     0.000\n",
      "9     0.000\n",
      "10    0.040\n",
      "11    0.035\n",
      "12    0.100\n",
      "Name: Precipitation_In, dtype: float64\n"
     ]
    }
   ],
   "source": [
    "# median precipitation per month\n",
    "months.Precipitation_In.median()"
   ]
  },
  {
   "cell_type": "code",
   "execution_count": null,
   "metadata": {},
   "outputs": [],
   "source": [
    "### What’s the average number of bikes at a given bike station?"
   ]
  },
  {
   "cell_type": "code",
   "execution_count": 43,
   "metadata": {},
   "outputs": [
    {
     "name": "stdout",
     "output_type": "stream",
     "text": [
      "Average bikes per station: 16.517241379310345\n"
     ]
    }
   ],
   "source": [
    "avg_bikes_per_station = station_df.current_dockcount.mean()\n",
    "print('Average bikes per station:', avg_bikes_per_station)"
   ]
  },
  {
   "cell_type": "code",
   "execution_count": null,
   "metadata": {},
   "outputs": [],
   "source": [
    "### When a bike station is modified, \n",
    "### is it more likely that it’ll lose bikes or gain bikes? \n",
    "### How do you know?"
   ]
  },
  {
   "cell_type": "code",
   "execution_count": 57,
   "metadata": {},
   "outputs": [
    {
     "name": "stdout",
     "output_type": "stream",
     "text": [
      "unmodified average bikes 17.658536585365855\n",
      "modified average bikes 13.764705882352942\n"
     ]
    }
   ],
   "source": [
    "modified_stations = station_df[station_df.modification_date.notnull()]\n",
    "unmodified_stations = station_df[station_df.modification_date.isnull()]\n",
    "unmodified_stations_avg_bikes = unmodified_stations.current_dockcount.mean()\n",
    "modified_stations_avg_bikes = modified_stations.current_dockcount.mean()\n",
    "print('unmodified average bikes', unmodified_stations_avg_bikes)\n",
    "print('modified average bikes', modified_stations_avg_bikes)"
   ]
  }
 ],
 "metadata": {
  "kernelspec": {
   "display_name": "Python 3",
   "language": "python",
   "name": "python3"
  },
  "language_info": {
   "codemirror_mode": {
    "name": "ipython",
    "version": 3
   },
   "file_extension": ".py",
   "mimetype": "text/x-python",
   "name": "python",
   "nbconvert_exporter": "python",
   "pygments_lexer": "ipython3",
   "version": "3.7.1"
  }
 },
 "nbformat": 4,
 "nbformat_minor": 2
}
